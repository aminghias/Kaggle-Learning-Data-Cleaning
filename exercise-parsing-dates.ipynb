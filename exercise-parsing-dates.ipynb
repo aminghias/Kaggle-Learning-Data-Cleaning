{
 "cells": [
  {
   "cell_type": "markdown",
   "id": "fb4ceb72",
   "metadata": {
    "papermill": {
     "duration": 0.006349,
     "end_time": "2022-09-30T18:37:04.198033",
     "exception": false,
     "start_time": "2022-09-30T18:37:04.191684",
     "status": "completed"
    },
    "tags": []
   },
   "source": [
    "**This notebook is an exercise in the [Data Cleaning](https://www.kaggle.com/learn/data-cleaning) course.  You can reference the tutorial at [this link](https://www.kaggle.com/alexisbcook/parsing-dates).**\n",
    "\n",
    "---\n"
   ]
  },
  {
   "cell_type": "markdown",
   "id": "aedb747b",
   "metadata": {
    "papermill": {
     "duration": 0.005193,
     "end_time": "2022-09-30T18:37:04.208752",
     "exception": false,
     "start_time": "2022-09-30T18:37:04.203559",
     "status": "completed"
    },
    "tags": []
   },
   "source": [
    "In this exercise, you'll apply what you learned in the **Parsing dates** tutorial.\n",
    "\n",
    "# Setup\n",
    "\n",
    "The questions below will give you feedback on your work. Run the following cell to set up the feedback system."
   ]
  },
  {
   "cell_type": "code",
   "execution_count": 1,
   "id": "1f9b9b01",
   "metadata": {
    "execution": {
     "iopub.execute_input": "2022-09-30T18:37:04.221623Z",
     "iopub.status.busy": "2022-09-30T18:37:04.221135Z",
     "iopub.status.idle": "2022-09-30T18:37:05.278708Z",
     "shell.execute_reply": "2022-09-30T18:37:05.277124Z"
    },
    "papermill": {
     "duration": 1.067275,
     "end_time": "2022-09-30T18:37:05.281420",
     "exception": false,
     "start_time": "2022-09-30T18:37:04.214145",
     "status": "completed"
    },
    "tags": []
   },
   "outputs": [
    {
     "name": "stdout",
     "output_type": "stream",
     "text": [
      "Setup Complete\n"
     ]
    }
   ],
   "source": [
    "from learntools.core import binder\n",
    "binder.bind(globals())\n",
    "from learntools.data_cleaning.ex3 import *\n",
    "print(\"Setup Complete\")"
   ]
  },
  {
   "cell_type": "markdown",
   "id": "08a868ce",
   "metadata": {
    "papermill": {
     "duration": 0.005533,
     "end_time": "2022-09-30T18:37:05.293445",
     "exception": false,
     "start_time": "2022-09-30T18:37:05.287912",
     "status": "completed"
    },
    "tags": []
   },
   "source": [
    "# Get our environment set up\n",
    "\n",
    "The first thing we'll need to do is load in the libraries and dataset we'll be using. We'll be working with a dataset containing information on earthquakes that occured between 1965 and 2016."
   ]
  },
  {
   "cell_type": "code",
   "execution_count": 2,
   "id": "811cc5d5",
   "metadata": {
    "execution": {
     "iopub.execute_input": "2022-09-30T18:37:05.306833Z",
     "iopub.status.busy": "2022-09-30T18:37:05.306462Z",
     "iopub.status.idle": "2022-09-30T18:37:05.358767Z",
     "shell.execute_reply": "2022-09-30T18:37:05.357707Z"
    },
    "papermill": {
     "duration": 0.061592,
     "end_time": "2022-09-30T18:37:05.360907",
     "exception": false,
     "start_time": "2022-09-30T18:37:05.299315",
     "status": "completed"
    },
    "tags": []
   },
   "outputs": [],
   "source": [
    "# modules we'll use\n",
    "import pandas as pd\n",
    "import numpy as np\n",
    "import seaborn as sns\n",
    "import datetime\n",
    "\n",
    "# read in our data\n",
    "earthquakes = pd.read_csv(\"../input/earthquake-database/database.csv\")\n",
    "\n",
    "# set seed for reproducibility\n",
    "np.random.seed(0)"
   ]
  },
  {
   "cell_type": "markdown",
   "id": "a9a0eae9",
   "metadata": {
    "papermill": {
     "duration": 0.005282,
     "end_time": "2022-09-30T18:37:05.372227",
     "exception": false,
     "start_time": "2022-09-30T18:37:05.366945",
     "status": "completed"
    },
    "tags": []
   },
   "source": [
    "# 1) Check the data type of our date column\n",
    "\n",
    "You'll be working with the \"Date\" column from the `earthquakes` dataframe.  Investigate this column now: does it look like it contains dates?  What is the dtype of the column?"
   ]
  },
  {
   "cell_type": "code",
   "execution_count": 3,
   "id": "0d2096b8",
   "metadata": {
    "execution": {
     "iopub.execute_input": "2022-09-30T18:37:05.384722Z",
     "iopub.status.busy": "2022-09-30T18:37:05.384428Z",
     "iopub.status.idle": "2022-09-30T18:37:05.393006Z",
     "shell.execute_reply": "2022-09-30T18:37:05.392375Z"
    },
    "papermill": {
     "duration": 0.016683,
     "end_time": "2022-09-30T18:37:05.394369",
     "exception": false,
     "start_time": "2022-09-30T18:37:05.377686",
     "status": "completed"
    },
    "tags": []
   },
   "outputs": [
    {
     "data": {
      "text/plain": [
       "Date                           object\n",
       "Time                           object\n",
       "Latitude                      float64\n",
       "Longitude                     float64\n",
       "Type                           object\n",
       "Depth                         float64\n",
       "Depth Error                   float64\n",
       "Depth Seismic Stations        float64\n",
       "Magnitude                     float64\n",
       "Magnitude Type                 object\n",
       "Magnitude Error               float64\n",
       "Magnitude Seismic Stations    float64\n",
       "Azimuthal Gap                 float64\n",
       "Horizontal Distance           float64\n",
       "Horizontal Error              float64\n",
       "Root Mean Square              float64\n",
       "ID                             object\n",
       "Source                         object\n",
       "Location Source                object\n",
       "Magnitude Source               object\n",
       "Status                         object\n",
       "dtype: object"
      ]
     },
     "execution_count": 3,
     "metadata": {},
     "output_type": "execute_result"
    }
   ],
   "source": [
    "# TODO: Your code here!\n",
    "\n",
    "earthquakes.dtypes\n"
   ]
  },
  {
   "cell_type": "markdown",
   "id": "8a8cb592",
   "metadata": {
    "papermill": {
     "duration": 0.005917,
     "end_time": "2022-09-30T18:37:05.405998",
     "exception": false,
     "start_time": "2022-09-30T18:37:05.400081",
     "status": "completed"
    },
    "tags": []
   },
   "source": [
    "Once you have answered the question above, run the code cell below to get credit for your work."
   ]
  },
  {
   "cell_type": "code",
   "execution_count": 4,
   "id": "25dfe3e0",
   "metadata": {
    "execution": {
     "iopub.execute_input": "2022-09-30T18:37:05.418987Z",
     "iopub.status.busy": "2022-09-30T18:37:05.418074Z",
     "iopub.status.idle": "2022-09-30T18:37:05.424811Z",
     "shell.execute_reply": "2022-09-30T18:37:05.424242Z"
    },
    "papermill": {
     "duration": 0.014718,
     "end_time": "2022-09-30T18:37:05.426242",
     "exception": false,
     "start_time": "2022-09-30T18:37:05.411524",
     "status": "completed"
    },
    "tags": []
   },
   "outputs": [
    {
     "data": {
      "application/javascript": [
       "parent.postMessage({\"jupyterEvent\": \"custom.exercise_interaction\", \"data\": {\"outcomeType\": 1, \"valueTowardsCompletion\": 0.25, \"interactionType\": 1, \"questionType\": 4, \"questionId\": \"1_CheckDtype\", \"learnToolsVersion\": \"0.3.4\", \"failureMessage\": \"\", \"exceptionClass\": \"\", \"trace\": \"\"}}, \"*\")"
      ],
      "text/plain": [
       "<IPython.core.display.Javascript object>"
      ]
     },
     "metadata": {},
     "output_type": "display_data"
    },
    {
     "data": {
      "text/markdown": [
       "<span style=\"color:#33cc33\">Correct:</span> \n",
       "\n",
       "The \"Date\" column in the `earthquakes` DataFrame does have dates.  The dtype is \"object\"."
      ],
      "text/plain": [
       "Correct: \n",
       "\n",
       "The \"Date\" column in the `earthquakes` DataFrame does have dates.  The dtype is \"object\"."
      ]
     },
     "metadata": {},
     "output_type": "display_data"
    }
   ],
   "source": [
    "# Check your answer (Run this code cell to receive credit!)\n",
    "q1.check()"
   ]
  },
  {
   "cell_type": "code",
   "execution_count": 5,
   "id": "b338bdee",
   "metadata": {
    "execution": {
     "iopub.execute_input": "2022-09-30T18:37:05.440491Z",
     "iopub.status.busy": "2022-09-30T18:37:05.439919Z",
     "iopub.status.idle": "2022-09-30T18:37:05.442780Z",
     "shell.execute_reply": "2022-09-30T18:37:05.442278Z"
    },
    "papermill": {
     "duration": 0.011257,
     "end_time": "2022-09-30T18:37:05.444289",
     "exception": false,
     "start_time": "2022-09-30T18:37:05.433032",
     "status": "completed"
    },
    "tags": []
   },
   "outputs": [],
   "source": [
    "# Line below will give you a hint\n",
    "# q1.hint()"
   ]
  },
  {
   "cell_type": "markdown",
   "id": "462d467a",
   "metadata": {
    "papermill": {
     "duration": 0.005942,
     "end_time": "2022-09-30T18:37:05.456446",
     "exception": false,
     "start_time": "2022-09-30T18:37:05.450504",
     "status": "completed"
    },
    "tags": []
   },
   "source": [
    "# 2) Convert our date columns to datetime\n",
    "\n",
    "Most of the entries in the \"Date\" column follow the same format: \"month/day/four-digit year\".  However, the entry at index 3378 follows a completely different pattern.  Run the code cell below to see this."
   ]
  },
  {
   "cell_type": "code",
   "execution_count": 6,
   "id": "e3226800",
   "metadata": {
    "execution": {
     "iopub.execute_input": "2022-09-30T18:37:05.470274Z",
     "iopub.status.busy": "2022-09-30T18:37:05.469638Z",
     "iopub.status.idle": "2022-09-30T18:37:05.498699Z",
     "shell.execute_reply": "2022-09-30T18:37:05.497361Z"
    },
    "papermill": {
     "duration": 0.041978,
     "end_time": "2022-09-30T18:37:05.504467",
     "exception": false,
     "start_time": "2022-09-30T18:37:05.462489",
     "status": "completed"
    },
    "tags": []
   },
   "outputs": [
    {
     "data": {
      "text/html": [
       "<div>\n",
       "<style scoped>\n",
       "    .dataframe tbody tr th:only-of-type {\n",
       "        vertical-align: middle;\n",
       "    }\n",
       "\n",
       "    .dataframe tbody tr th {\n",
       "        vertical-align: top;\n",
       "    }\n",
       "\n",
       "    .dataframe thead th {\n",
       "        text-align: right;\n",
       "    }\n",
       "</style>\n",
       "<table border=\"1\" class=\"dataframe\">\n",
       "  <thead>\n",
       "    <tr style=\"text-align: right;\">\n",
       "      <th></th>\n",
       "      <th>Date</th>\n",
       "      <th>Time</th>\n",
       "      <th>Latitude</th>\n",
       "      <th>Longitude</th>\n",
       "      <th>Type</th>\n",
       "      <th>Depth</th>\n",
       "      <th>Depth Error</th>\n",
       "      <th>Depth Seismic Stations</th>\n",
       "      <th>Magnitude</th>\n",
       "      <th>Magnitude Type</th>\n",
       "      <th>...</th>\n",
       "      <th>Magnitude Seismic Stations</th>\n",
       "      <th>Azimuthal Gap</th>\n",
       "      <th>Horizontal Distance</th>\n",
       "      <th>Horizontal Error</th>\n",
       "      <th>Root Mean Square</th>\n",
       "      <th>ID</th>\n",
       "      <th>Source</th>\n",
       "      <th>Location Source</th>\n",
       "      <th>Magnitude Source</th>\n",
       "      <th>Status</th>\n",
       "    </tr>\n",
       "  </thead>\n",
       "  <tbody>\n",
       "    <tr>\n",
       "      <th>3378</th>\n",
       "      <td>1975-02-23T02:58:41.000Z</td>\n",
       "      <td>1975-02-23T02:58:41.000Z</td>\n",
       "      <td>8.017</td>\n",
       "      <td>124.075</td>\n",
       "      <td>Earthquake</td>\n",
       "      <td>623.0</td>\n",
       "      <td>NaN</td>\n",
       "      <td>NaN</td>\n",
       "      <td>5.6</td>\n",
       "      <td>MB</td>\n",
       "      <td>...</td>\n",
       "      <td>NaN</td>\n",
       "      <td>NaN</td>\n",
       "      <td>NaN</td>\n",
       "      <td>NaN</td>\n",
       "      <td>NaN</td>\n",
       "      <td>USP0000A09</td>\n",
       "      <td>US</td>\n",
       "      <td>US</td>\n",
       "      <td>US</td>\n",
       "      <td>Reviewed</td>\n",
       "    </tr>\n",
       "    <tr>\n",
       "      <th>3379</th>\n",
       "      <td>02/23/1975</td>\n",
       "      <td>03:53:36</td>\n",
       "      <td>-21.727</td>\n",
       "      <td>-71.356</td>\n",
       "      <td>Earthquake</td>\n",
       "      <td>33.0</td>\n",
       "      <td>NaN</td>\n",
       "      <td>NaN</td>\n",
       "      <td>5.6</td>\n",
       "      <td>MB</td>\n",
       "      <td>...</td>\n",
       "      <td>NaN</td>\n",
       "      <td>NaN</td>\n",
       "      <td>NaN</td>\n",
       "      <td>NaN</td>\n",
       "      <td>NaN</td>\n",
       "      <td>USP0000A0A</td>\n",
       "      <td>US</td>\n",
       "      <td>US</td>\n",
       "      <td>US</td>\n",
       "      <td>Reviewed</td>\n",
       "    </tr>\n",
       "    <tr>\n",
       "      <th>3380</th>\n",
       "      <td>02/23/1975</td>\n",
       "      <td>07:34:11</td>\n",
       "      <td>-10.879</td>\n",
       "      <td>166.667</td>\n",
       "      <td>Earthquake</td>\n",
       "      <td>33.0</td>\n",
       "      <td>NaN</td>\n",
       "      <td>NaN</td>\n",
       "      <td>5.5</td>\n",
       "      <td>MS</td>\n",
       "      <td>...</td>\n",
       "      <td>NaN</td>\n",
       "      <td>NaN</td>\n",
       "      <td>NaN</td>\n",
       "      <td>NaN</td>\n",
       "      <td>NaN</td>\n",
       "      <td>USP0000A0C</td>\n",
       "      <td>US</td>\n",
       "      <td>US</td>\n",
       "      <td>US</td>\n",
       "      <td>Reviewed</td>\n",
       "    </tr>\n",
       "    <tr>\n",
       "      <th>3381</th>\n",
       "      <td>02/25/1975</td>\n",
       "      <td>05:20:05</td>\n",
       "      <td>-7.388</td>\n",
       "      <td>149.798</td>\n",
       "      <td>Earthquake</td>\n",
       "      <td>33.0</td>\n",
       "      <td>NaN</td>\n",
       "      <td>NaN</td>\n",
       "      <td>5.5</td>\n",
       "      <td>MB</td>\n",
       "      <td>...</td>\n",
       "      <td>NaN</td>\n",
       "      <td>NaN</td>\n",
       "      <td>NaN</td>\n",
       "      <td>NaN</td>\n",
       "      <td>NaN</td>\n",
       "      <td>USP0000A12</td>\n",
       "      <td>US</td>\n",
       "      <td>US</td>\n",
       "      <td>US</td>\n",
       "      <td>Reviewed</td>\n",
       "    </tr>\n",
       "    <tr>\n",
       "      <th>3382</th>\n",
       "      <td>02/26/1975</td>\n",
       "      <td>04:48:55</td>\n",
       "      <td>85.047</td>\n",
       "      <td>97.969</td>\n",
       "      <td>Earthquake</td>\n",
       "      <td>33.0</td>\n",
       "      <td>NaN</td>\n",
       "      <td>NaN</td>\n",
       "      <td>5.6</td>\n",
       "      <td>MS</td>\n",
       "      <td>...</td>\n",
       "      <td>NaN</td>\n",
       "      <td>NaN</td>\n",
       "      <td>NaN</td>\n",
       "      <td>NaN</td>\n",
       "      <td>NaN</td>\n",
       "      <td>USP0000A1H</td>\n",
       "      <td>US</td>\n",
       "      <td>US</td>\n",
       "      <td>US</td>\n",
       "      <td>Reviewed</td>\n",
       "    </tr>\n",
       "  </tbody>\n",
       "</table>\n",
       "<p>5 rows × 21 columns</p>\n",
       "</div>"
      ],
      "text/plain": [
       "                          Date                      Time  Latitude  Longitude  \\\n",
       "3378  1975-02-23T02:58:41.000Z  1975-02-23T02:58:41.000Z     8.017    124.075   \n",
       "3379                02/23/1975                  03:53:36   -21.727    -71.356   \n",
       "3380                02/23/1975                  07:34:11   -10.879    166.667   \n",
       "3381                02/25/1975                  05:20:05    -7.388    149.798   \n",
       "3382                02/26/1975                  04:48:55    85.047     97.969   \n",
       "\n",
       "            Type  Depth  Depth Error  Depth Seismic Stations  Magnitude  \\\n",
       "3378  Earthquake  623.0          NaN                     NaN        5.6   \n",
       "3379  Earthquake   33.0          NaN                     NaN        5.6   \n",
       "3380  Earthquake   33.0          NaN                     NaN        5.5   \n",
       "3381  Earthquake   33.0          NaN                     NaN        5.5   \n",
       "3382  Earthquake   33.0          NaN                     NaN        5.6   \n",
       "\n",
       "     Magnitude Type  ...  Magnitude Seismic Stations  Azimuthal Gap  \\\n",
       "3378             MB  ...                         NaN            NaN   \n",
       "3379             MB  ...                         NaN            NaN   \n",
       "3380             MS  ...                         NaN            NaN   \n",
       "3381             MB  ...                         NaN            NaN   \n",
       "3382             MS  ...                         NaN            NaN   \n",
       "\n",
       "      Horizontal Distance  Horizontal Error  Root Mean Square          ID  \\\n",
       "3378                  NaN               NaN               NaN  USP0000A09   \n",
       "3379                  NaN               NaN               NaN  USP0000A0A   \n",
       "3380                  NaN               NaN               NaN  USP0000A0C   \n",
       "3381                  NaN               NaN               NaN  USP0000A12   \n",
       "3382                  NaN               NaN               NaN  USP0000A1H   \n",
       "\n",
       "     Source Location Source Magnitude Source    Status  \n",
       "3378     US              US               US  Reviewed  \n",
       "3379     US              US               US  Reviewed  \n",
       "3380     US              US               US  Reviewed  \n",
       "3381     US              US               US  Reviewed  \n",
       "3382     US              US               US  Reviewed  \n",
       "\n",
       "[5 rows x 21 columns]"
      ]
     },
     "execution_count": 6,
     "metadata": {},
     "output_type": "execute_result"
    }
   ],
   "source": [
    "earthquakes[3378:3383]"
   ]
  },
  {
   "cell_type": "markdown",
   "id": "71eea19c",
   "metadata": {
    "papermill": {
     "duration": 0.00801,
     "end_time": "2022-09-30T18:37:05.519578",
     "exception": false,
     "start_time": "2022-09-30T18:37:05.511568",
     "status": "completed"
    },
    "tags": []
   },
   "source": [
    "This does appear to be an issue with data entry: ideally, all entries in the column have the same format.  We can get an idea of how widespread this issue is by checking the length of each entry in the \"Date\" column."
   ]
  },
  {
   "cell_type": "code",
   "execution_count": 7,
   "id": "17b96c19",
   "metadata": {
    "execution": {
     "iopub.execute_input": "2022-09-30T18:37:05.535316Z",
     "iopub.status.busy": "2022-09-30T18:37:05.534778Z",
     "iopub.status.idle": "2022-09-30T18:37:05.551358Z",
     "shell.execute_reply": "2022-09-30T18:37:05.550582Z"
    },
    "papermill": {
     "duration": 0.025907,
     "end_time": "2022-09-30T18:37:05.552833",
     "exception": false,
     "start_time": "2022-09-30T18:37:05.526926",
     "status": "completed"
    },
    "tags": []
   },
   "outputs": [
    {
     "data": {
      "text/plain": [
       "10    23409\n",
       "24        3\n",
       "Name: Date, dtype: int64"
      ]
     },
     "execution_count": 7,
     "metadata": {},
     "output_type": "execute_result"
    }
   ],
   "source": [
    "date_lengths = earthquakes.Date.str.len()\n",
    "date_lengths.value_counts()"
   ]
  },
  {
   "cell_type": "markdown",
   "id": "1788cc4a",
   "metadata": {
    "papermill": {
     "duration": 0.005707,
     "end_time": "2022-09-30T18:37:05.564672",
     "exception": false,
     "start_time": "2022-09-30T18:37:05.558965",
     "status": "completed"
    },
    "tags": []
   },
   "source": [
    "Looks like there are two more rows that has a date in a different format.  Run the code cell below to obtain the indices corresponding to those rows and print the data."
   ]
  },
  {
   "cell_type": "code",
   "execution_count": 8,
   "id": "aa9ad9ac",
   "metadata": {
    "execution": {
     "iopub.execute_input": "2022-09-30T18:37:05.580833Z",
     "iopub.status.busy": "2022-09-30T18:37:05.580066Z",
     "iopub.status.idle": "2022-09-30T18:37:05.609564Z",
     "shell.execute_reply": "2022-09-30T18:37:05.608094Z"
    },
    "papermill": {
     "duration": 0.040317,
     "end_time": "2022-09-30T18:37:05.611715",
     "exception": false,
     "start_time": "2022-09-30T18:37:05.571398",
     "status": "completed"
    },
    "tags": []
   },
   "outputs": [
    {
     "name": "stdout",
     "output_type": "stream",
     "text": [
      "Indices with corrupted data: [ 3378  7512 20650]\n"
     ]
    },
    {
     "data": {
      "text/html": [
       "<div>\n",
       "<style scoped>\n",
       "    .dataframe tbody tr th:only-of-type {\n",
       "        vertical-align: middle;\n",
       "    }\n",
       "\n",
       "    .dataframe tbody tr th {\n",
       "        vertical-align: top;\n",
       "    }\n",
       "\n",
       "    .dataframe thead th {\n",
       "        text-align: right;\n",
       "    }\n",
       "</style>\n",
       "<table border=\"1\" class=\"dataframe\">\n",
       "  <thead>\n",
       "    <tr style=\"text-align: right;\">\n",
       "      <th></th>\n",
       "      <th>Date</th>\n",
       "      <th>Time</th>\n",
       "      <th>Latitude</th>\n",
       "      <th>Longitude</th>\n",
       "      <th>Type</th>\n",
       "      <th>Depth</th>\n",
       "      <th>Depth Error</th>\n",
       "      <th>Depth Seismic Stations</th>\n",
       "      <th>Magnitude</th>\n",
       "      <th>Magnitude Type</th>\n",
       "      <th>...</th>\n",
       "      <th>Magnitude Seismic Stations</th>\n",
       "      <th>Azimuthal Gap</th>\n",
       "      <th>Horizontal Distance</th>\n",
       "      <th>Horizontal Error</th>\n",
       "      <th>Root Mean Square</th>\n",
       "      <th>ID</th>\n",
       "      <th>Source</th>\n",
       "      <th>Location Source</th>\n",
       "      <th>Magnitude Source</th>\n",
       "      <th>Status</th>\n",
       "    </tr>\n",
       "  </thead>\n",
       "  <tbody>\n",
       "    <tr>\n",
       "      <th>3378</th>\n",
       "      <td>1975-02-23T02:58:41.000Z</td>\n",
       "      <td>1975-02-23T02:58:41.000Z</td>\n",
       "      <td>8.017</td>\n",
       "      <td>124.075</td>\n",
       "      <td>Earthquake</td>\n",
       "      <td>623.0</td>\n",
       "      <td>NaN</td>\n",
       "      <td>NaN</td>\n",
       "      <td>5.6</td>\n",
       "      <td>MB</td>\n",
       "      <td>...</td>\n",
       "      <td>NaN</td>\n",
       "      <td>NaN</td>\n",
       "      <td>NaN</td>\n",
       "      <td>NaN</td>\n",
       "      <td>NaN</td>\n",
       "      <td>USP0000A09</td>\n",
       "      <td>US</td>\n",
       "      <td>US</td>\n",
       "      <td>US</td>\n",
       "      <td>Reviewed</td>\n",
       "    </tr>\n",
       "    <tr>\n",
       "      <th>7512</th>\n",
       "      <td>1985-04-28T02:53:41.530Z</td>\n",
       "      <td>1985-04-28T02:53:41.530Z</td>\n",
       "      <td>-32.998</td>\n",
       "      <td>-71.766</td>\n",
       "      <td>Earthquake</td>\n",
       "      <td>33.0</td>\n",
       "      <td>NaN</td>\n",
       "      <td>NaN</td>\n",
       "      <td>5.6</td>\n",
       "      <td>MW</td>\n",
       "      <td>...</td>\n",
       "      <td>NaN</td>\n",
       "      <td>NaN</td>\n",
       "      <td>NaN</td>\n",
       "      <td>NaN</td>\n",
       "      <td>1.30</td>\n",
       "      <td>USP0002E81</td>\n",
       "      <td>US</td>\n",
       "      <td>US</td>\n",
       "      <td>HRV</td>\n",
       "      <td>Reviewed</td>\n",
       "    </tr>\n",
       "    <tr>\n",
       "      <th>20650</th>\n",
       "      <td>2011-03-13T02:23:34.520Z</td>\n",
       "      <td>2011-03-13T02:23:34.520Z</td>\n",
       "      <td>36.344</td>\n",
       "      <td>142.344</td>\n",
       "      <td>Earthquake</td>\n",
       "      <td>10.1</td>\n",
       "      <td>13.9</td>\n",
       "      <td>289.0</td>\n",
       "      <td>5.8</td>\n",
       "      <td>MWC</td>\n",
       "      <td>...</td>\n",
       "      <td>NaN</td>\n",
       "      <td>32.3</td>\n",
       "      <td>NaN</td>\n",
       "      <td>NaN</td>\n",
       "      <td>1.06</td>\n",
       "      <td>USP000HWQP</td>\n",
       "      <td>US</td>\n",
       "      <td>US</td>\n",
       "      <td>GCMT</td>\n",
       "      <td>Reviewed</td>\n",
       "    </tr>\n",
       "  </tbody>\n",
       "</table>\n",
       "<p>3 rows × 21 columns</p>\n",
       "</div>"
      ],
      "text/plain": [
       "                           Date                      Time  Latitude  \\\n",
       "3378   1975-02-23T02:58:41.000Z  1975-02-23T02:58:41.000Z     8.017   \n",
       "7512   1985-04-28T02:53:41.530Z  1985-04-28T02:53:41.530Z   -32.998   \n",
       "20650  2011-03-13T02:23:34.520Z  2011-03-13T02:23:34.520Z    36.344   \n",
       "\n",
       "       Longitude        Type  Depth  Depth Error  Depth Seismic Stations  \\\n",
       "3378     124.075  Earthquake  623.0          NaN                     NaN   \n",
       "7512     -71.766  Earthquake   33.0          NaN                     NaN   \n",
       "20650    142.344  Earthquake   10.1         13.9                   289.0   \n",
       "\n",
       "       Magnitude Magnitude Type  ...  Magnitude Seismic Stations  \\\n",
       "3378         5.6             MB  ...                         NaN   \n",
       "7512         5.6             MW  ...                         NaN   \n",
       "20650        5.8            MWC  ...                         NaN   \n",
       "\n",
       "       Azimuthal Gap  Horizontal Distance  Horizontal Error  Root Mean Square  \\\n",
       "3378             NaN                  NaN               NaN               NaN   \n",
       "7512             NaN                  NaN               NaN              1.30   \n",
       "20650           32.3                  NaN               NaN              1.06   \n",
       "\n",
       "               ID Source Location Source Magnitude Source    Status  \n",
       "3378   USP0000A09     US              US               US  Reviewed  \n",
       "7512   USP0002E81     US              US              HRV  Reviewed  \n",
       "20650  USP000HWQP     US              US             GCMT  Reviewed  \n",
       "\n",
       "[3 rows x 21 columns]"
      ]
     },
     "execution_count": 8,
     "metadata": {},
     "output_type": "execute_result"
    }
   ],
   "source": [
    "indices = np.where([date_lengths == 24])[1]\n",
    "print('Indices with corrupted data:', indices)\n",
    "earthquakes.loc[indices]"
   ]
  },
  {
   "cell_type": "markdown",
   "id": "cb58b708",
   "metadata": {
    "papermill": {
     "duration": 0.006819,
     "end_time": "2022-09-30T18:37:05.625616",
     "exception": false,
     "start_time": "2022-09-30T18:37:05.618797",
     "status": "completed"
    },
    "tags": []
   },
   "source": [
    "Given all of this information, it's your turn to create a new column \"date_parsed\" in the `earthquakes` dataset that has correctly parsed dates in it.  \n",
    "\n",
    "**Note**: When completing this problem, you are allowed to (but are not required to) amend the entries in the \"Date\" and \"Time\" columns.  Do not remove any rows from the dataset."
   ]
  },
  {
   "cell_type": "code",
   "execution_count": 9,
   "id": "ef08ac76",
   "metadata": {
    "execution": {
     "iopub.execute_input": "2022-09-30T18:37:05.640990Z",
     "iopub.status.busy": "2022-09-30T18:37:05.640699Z",
     "iopub.status.idle": "2022-09-30T18:37:05.687094Z",
     "shell.execute_reply": "2022-09-30T18:37:05.685249Z"
    },
    "papermill": {
     "duration": 0.056437,
     "end_time": "2022-09-30T18:37:05.689098",
     "exception": false,
     "start_time": "2022-09-30T18:37:05.632661",
     "status": "completed"
    },
    "tags": []
   },
   "outputs": [
    {
     "name": "stdout",
     "output_type": "stream",
     "text": [
      "03/13/2011\n",
      "03/13/2011\n"
     ]
    },
    {
     "data": {
      "application/javascript": [
       "parent.postMessage({\"jupyterEvent\": \"custom.exercise_interaction\", \"data\": {\"outcomeType\": 1, \"valueTowardsCompletion\": 0.25, \"interactionType\": 1, \"questionType\": 2, \"questionId\": \"2_ConvertToDatetime\", \"learnToolsVersion\": \"0.3.4\", \"failureMessage\": \"\", \"exceptionClass\": \"\", \"trace\": \"\"}}, \"*\")"
      ],
      "text/plain": [
       "<IPython.core.display.Javascript object>"
      ]
     },
     "metadata": {},
     "output_type": "display_data"
    },
    {
     "data": {
      "text/markdown": [
       "<span style=\"color:#33cc33\">Correct</span>"
      ],
      "text/plain": [
       "Correct"
      ]
     },
     "metadata": {},
     "output_type": "display_data"
    }
   ],
   "source": [
    "# TODO: Your code here\n",
    "earthquakes.loc[3378, \"Date\"] = \"02/23/1975\"\n",
    "earthquakes.loc[7512, \"Date\"] = \"04/28/1985\"\n",
    "earthquakes.loc[20650, \"Date\"] = \"03/13/2011\"\n",
    "print(earthquakes.loc[20650, \"Date\"])\n",
    "earthquakes['date_parsed'] = pd.to_datetime(earthquakes['Date'], format=\"%m/%d/%Y\")\n",
    "print(earthquakes.loc[20650, \"Date\"])\n",
    "# Check your answer\n",
    "q2.check()"
   ]
  },
  {
   "cell_type": "code",
   "execution_count": 10,
   "id": "224a2381",
   "metadata": {
    "execution": {
     "iopub.execute_input": "2022-09-30T18:37:05.705144Z",
     "iopub.status.busy": "2022-09-30T18:37:05.704429Z",
     "iopub.status.idle": "2022-09-30T18:37:05.709254Z",
     "shell.execute_reply": "2022-09-30T18:37:05.707894Z"
    },
    "papermill": {
     "duration": 0.015314,
     "end_time": "2022-09-30T18:37:05.711582",
     "exception": false,
     "start_time": "2022-09-30T18:37:05.696268",
     "status": "completed"
    },
    "tags": []
   },
   "outputs": [],
   "source": [
    "# Lines below will give you a hint or solution code\n",
    "#q2.hint()\n",
    "# q2.solution()"
   ]
  },
  {
   "cell_type": "markdown",
   "id": "45e73d8a",
   "metadata": {
    "papermill": {
     "duration": 0.00771,
     "end_time": "2022-09-30T18:37:05.726468",
     "exception": false,
     "start_time": "2022-09-30T18:37:05.718758",
     "status": "completed"
    },
    "tags": []
   },
   "source": [
    "# 3) Select the day of the month\n",
    "\n",
    "Create a Pandas Series `day_of_month_earthquakes` containing the day of the month from the \"date_parsed\" column."
   ]
  },
  {
   "cell_type": "code",
   "execution_count": 11,
   "id": "d68f6dd7",
   "metadata": {
    "execution": {
     "iopub.execute_input": "2022-09-30T18:37:05.743171Z",
     "iopub.status.busy": "2022-09-30T18:37:05.742881Z",
     "iopub.status.idle": "2022-09-30T18:37:05.754413Z",
     "shell.execute_reply": "2022-09-30T18:37:05.752551Z"
    },
    "papermill": {
     "duration": 0.022907,
     "end_time": "2022-09-30T18:37:05.756914",
     "exception": false,
     "start_time": "2022-09-30T18:37:05.734007",
     "status": "completed"
    },
    "tags": []
   },
   "outputs": [
    {
     "name": "stdout",
     "output_type": "stream",
     "text": [
      "0         2\n",
      "1         4\n",
      "2         5\n",
      "3         8\n",
      "4         9\n",
      "         ..\n",
      "23407    28\n",
      "23408    28\n",
      "23409    28\n",
      "23410    29\n",
      "23411    30\n",
      "Name: date_parsed, Length: 23412, dtype: int64\n"
     ]
    },
    {
     "data": {
      "application/javascript": [
       "parent.postMessage({\"jupyterEvent\": \"custom.exercise_interaction\", \"data\": {\"outcomeType\": 1, \"valueTowardsCompletion\": 0.25, \"interactionType\": 1, \"questionType\": 1, \"questionId\": \"3_DayOfMonth\", \"learnToolsVersion\": \"0.3.4\", \"failureMessage\": \"\", \"exceptionClass\": \"\", \"trace\": \"\"}}, \"*\")"
      ],
      "text/plain": [
       "<IPython.core.display.Javascript object>"
      ]
     },
     "metadata": {},
     "output_type": "display_data"
    },
    {
     "data": {
      "text/markdown": [
       "<span style=\"color:#33cc33\">Correct</span>"
      ],
      "text/plain": [
       "Correct"
      ]
     },
     "metadata": {},
     "output_type": "display_data"
    }
   ],
   "source": [
    "# try to get the day of the month from the date column\n",
    "\n",
    "\n",
    "day_of_month_earthquakes = earthquakes['date_parsed'].dt.day\n",
    "print(day_of_month_earthquakes)\n",
    "\n",
    "# Check your answer\n",
    "q3.check()"
   ]
  },
  {
   "cell_type": "code",
   "execution_count": 12,
   "id": "10a8ebe8",
   "metadata": {
    "execution": {
     "iopub.execute_input": "2022-09-30T18:37:05.773858Z",
     "iopub.status.busy": "2022-09-30T18:37:05.773160Z",
     "iopub.status.idle": "2022-09-30T18:37:05.777925Z",
     "shell.execute_reply": "2022-09-30T18:37:05.776406Z"
    },
    "papermill": {
     "duration": 0.0154,
     "end_time": "2022-09-30T18:37:05.779975",
     "exception": false,
     "start_time": "2022-09-30T18:37:05.764575",
     "status": "completed"
    },
    "tags": []
   },
   "outputs": [],
   "source": [
    "# Lines below will give you a hint or solution code\n",
    "#q3.hint()\n",
    "# q3.solution()"
   ]
  },
  {
   "cell_type": "markdown",
   "id": "dce83a5c",
   "metadata": {
    "papermill": {
     "duration": 0.007881,
     "end_time": "2022-09-30T18:37:05.795390",
     "exception": false,
     "start_time": "2022-09-30T18:37:05.787509",
     "status": "completed"
    },
    "tags": []
   },
   "source": [
    "# 4) Plot the day of the month to check the date parsing\n",
    "\n",
    "Plot the days of the month from your earthquake dataset."
   ]
  },
  {
   "cell_type": "code",
   "execution_count": 13,
   "id": "aa128e6c",
   "metadata": {
    "execution": {
     "iopub.execute_input": "2022-09-30T18:37:05.812400Z",
     "iopub.status.busy": "2022-09-30T18:37:05.812023Z",
     "iopub.status.idle": "2022-09-30T18:37:06.026204Z",
     "shell.execute_reply": "2022-09-30T18:37:06.024663Z"
    },
    "papermill": {
     "duration": 0.22494,
     "end_time": "2022-09-30T18:37:06.028535",
     "exception": false,
     "start_time": "2022-09-30T18:37:05.803595",
     "status": "completed"
    },
    "tags": []
   },
   "outputs": [
    {
     "name": "stderr",
     "output_type": "stream",
     "text": [
      "/opt/conda/lib/python3.7/site-packages/seaborn/distributions.py:2619: FutureWarning: `distplot` is a deprecated function and will be removed in a future version. Please adapt your code to use either `displot` (a figure-level function with similar flexibility) or `histplot` (an axes-level function for histograms).\n",
      "  warnings.warn(msg, FutureWarning)\n"
     ]
    },
    {
     "data": {
      "text/plain": [
       "<AxesSubplot:xlabel='date_parsed'>"
      ]
     },
     "execution_count": 13,
     "metadata": {},
     "output_type": "execute_result"
    },
    {
     "data": {
      "image/png": "[encoded data removed]",
      "text/plain": [
       "<Figure size 432x288 with 1 Axes>"
      ]
     },
     "metadata": {
      "needs_background": "light"
     },
     "output_type": "display_data"
    }
   ],
   "source": [
    "# TODO: Your code here!\n",
    "\n",
    "\n",
    "day_of_month_earthquakes = day_of_month_earthquakes.dropna()\n",
    "\n",
    "sns.distplot(day_of_month_earthquakes, kde=False, bins=31)"
   ]
  },
  {
   "cell_type": "markdown",
   "id": "ec23b209",
   "metadata": {
    "papermill": {
     "duration": 0.008195,
     "end_time": "2022-09-30T18:37:06.044691",
     "exception": false,
     "start_time": "2022-09-30T18:37:06.036496",
     "status": "completed"
    },
    "tags": []
   },
   "source": [
    "Does the graph make sense to you?"
   ]
  },
  {
   "cell_type": "code",
   "execution_count": 14,
   "id": "732f2f52",
   "metadata": {
    "execution": {
     "iopub.execute_input": "2022-09-30T18:37:06.061883Z",
     "iopub.status.busy": "2022-09-30T18:37:06.061598Z",
     "iopub.status.idle": "2022-09-30T18:37:06.069918Z",
     "shell.execute_reply": "2022-09-30T18:37:06.069372Z"
    },
    "papermill": {
     "duration": 0.018838,
     "end_time": "2022-09-30T18:37:06.071396",
     "exception": false,
     "start_time": "2022-09-30T18:37:06.052558",
     "status": "completed"
    },
    "tags": []
   },
   "outputs": [
    {
     "data": {
      "application/javascript": [
       "parent.postMessage({\"jupyterEvent\": \"custom.exercise_interaction\", \"data\": {\"outcomeType\": 1, \"valueTowardsCompletion\": 0.25, \"interactionType\": 1, \"questionType\": 4, \"questionId\": \"4_PlotDayOfMonth\", \"learnToolsVersion\": \"0.3.4\", \"failureMessage\": \"\", \"exceptionClass\": \"\", \"trace\": \"\"}}, \"*\")"
      ],
      "text/plain": [
       "<IPython.core.display.Javascript object>"
      ]
     },
     "metadata": {},
     "output_type": "display_data"
    },
    {
     "data": {
      "text/markdown": [
       "<span style=\"color:#33cc33\">Correct:</span> \n",
       "\n",
       "The graph should make sense: it shows a relatively even distribution in days of the month,which is what we would expect."
      ],
      "text/plain": [
       "Correct: \n",
       "\n",
       "The graph should make sense: it shows a relatively even distribution in days of the month,which is what we would expect."
      ]
     },
     "metadata": {},
     "output_type": "display_data"
    }
   ],
   "source": [
    "# Check your answer (Run this code cell to receive credit!)\n",
    "q4.check()"
   ]
  },
  {
   "cell_type": "code",
   "execution_count": 15,
   "id": "61a43718",
   "metadata": {
    "execution": {
     "iopub.execute_input": "2022-09-30T18:37:06.089233Z",
     "iopub.status.busy": "2022-09-30T18:37:06.087986Z",
     "iopub.status.idle": "2022-09-30T18:37:06.092131Z",
     "shell.execute_reply": "2022-09-30T18:37:06.091370Z"
    },
    "papermill": {
     "duration": 0.014799,
     "end_time": "2022-09-30T18:37:06.093886",
     "exception": false,
     "start_time": "2022-09-30T18:37:06.079087",
     "status": "completed"
    },
    "tags": []
   },
   "outputs": [],
   "source": [
    "# Line below will give you a hint\n",
    "# q4.hint()"
   ]
  },
  {
   "cell_type": "markdown",
   "id": "8c6debc3",
   "metadata": {
    "papermill": {
     "duration": 0.006873,
     "end_time": "2022-09-30T18:37:06.107932",
     "exception": false,
     "start_time": "2022-09-30T18:37:06.101059",
     "status": "completed"
    },
    "tags": []
   },
   "source": [
    "# (Optional) Bonus Challenge\n",
    "\n",
    "For an extra challenge, you'll work with a [Smithsonian dataset](https://www.kaggle.com/smithsonian/volcanic-eruptions) that documents Earth's volcanoes and their eruptive history over the past 10,000 years \n",
    "\n",
    "Run the next code cell to load the data."
   ]
  },
  {
   "cell_type": "code",
   "execution_count": 16,
   "id": "0b3117d2",
   "metadata": {
    "execution": {
     "iopub.execute_input": "2022-09-30T18:37:06.123633Z",
     "iopub.status.busy": "2022-09-30T18:37:06.123268Z",
     "iopub.status.idle": "2022-09-30T18:37:06.144255Z",
     "shell.execute_reply": "2022-09-30T18:37:06.143307Z"
    },
    "papermill": {
     "duration": 0.031096,
     "end_time": "2022-09-30T18:37:06.146155",
     "exception": false,
     "start_time": "2022-09-30T18:37:06.115059",
     "status": "completed"
    },
    "tags": []
   },
   "outputs": [],
   "source": [
    "volcanos = pd.read_csv(\"../input/volcanic-eruptions/database.csv\")"
   ]
  },
  {
   "cell_type": "markdown",
   "id": "d8e23501",
   "metadata": {
    "papermill": {
     "duration": 0.007086,
     "end_time": "2022-09-30T18:37:06.160845",
     "exception": false,
     "start_time": "2022-09-30T18:37:06.153759",
     "status": "completed"
    },
    "tags": []
   },
   "source": [
    "Try parsing the column \"Last Known Eruption\" from the `volcanos` dataframe. This column contains a mixture of text (\"Unknown\") and years both before the common era (BCE, also known as BC) and in the common era (CE, also known as AD)."
   ]
  },
  {
   "cell_type": "code",
   "execution_count": 17,
   "id": "86404c4c",
   "metadata": {
    "execution": {
     "iopub.execute_input": "2022-09-30T18:37:06.176960Z",
     "iopub.status.busy": "2022-09-30T18:37:06.176650Z",
     "iopub.status.idle": "2022-09-30T18:37:06.183146Z",
     "shell.execute_reply": "2022-09-30T18:37:06.182374Z"
    },
    "papermill": {
     "duration": 0.017837,
     "end_time": "2022-09-30T18:37:06.185738",
     "exception": false,
     "start_time": "2022-09-30T18:37:06.167901",
     "status": "completed"
    },
    "tags": []
   },
   "outputs": [
    {
     "data": {
      "text/plain": [
       "764     Unknown\n",
       "1069    1996 CE\n",
       "34      1855 CE\n",
       "489     2016 CE\n",
       "9       1302 CE\n",
       "Name: Last Known Eruption, dtype: object"
      ]
     },
     "execution_count": 17,
     "metadata": {},
     "output_type": "execute_result"
    }
   ],
   "source": [
    "volcanos['Last Known Eruption'].sample(5)"
   ]
  },
  {
   "cell_type": "markdown",
   "id": "86aeaad1",
   "metadata": {
    "papermill": {
     "duration": 0.007476,
     "end_time": "2022-09-30T18:37:06.202415",
     "exception": false,
     "start_time": "2022-09-30T18:37:06.194939",
     "status": "completed"
    },
    "tags": []
   },
   "source": [
    "# (Optional) More practice\n",
    "\n",
    "If you're interested in graphing time series, [check out this tutorial](https://www.kaggle.com/residentmario/time-series-plotting-optional).\n",
    "\n",
    "You can also look into passing columns that you know have dates in them  the `parse_dates` argument in `read_csv`. (The documention [is here](https://pandas.pydata.org/pandas-docs/stable/generated/pandas.read_csv.html).) Do note that this method can be very slow, but depending on your needs it may sometimes be handy to use.\n",
    "\n",
    "# Keep going\n",
    "\n",
    "In the next lesson, learn how to [**work with character encodings**](https://www.kaggle.com/alexisbcook/character-encodings)."
   ]
  },
  {
   "cell_type": "markdown",
   "id": "a77cb0f0",
   "metadata": {
    "papermill": {
     "duration": 0.007543,
     "end_time": "2022-09-30T18:37:06.217611",
     "exception": false,
     "start_time": "2022-09-30T18:37:06.210068",
     "status": "completed"
    },
    "tags": []
   },
   "source": [
    "---\n",
    "\n",
    "\n",
    "\n",
    "\n",
    "*Have questions or comments? Visit the [course discussion forum](https://www.kaggle.com/learn/data-cleaning/discussion) to chat with other learners.*"
   ]
  }
 ],
 "metadata": {
  "kernelspec": {
   "display_name": "Python 3",
   "language": "python",
   "name": "python3"
  },
  "language_info": {
   "codemirror_mode": {
    "name": "ipython",
    "version": 3
   },
   "file_extension": ".py",
   "mimetype": "text/x-python",
   "name": "python",
   "nbconvert_exporter": "python",
   "pygments_lexer": "ipython3",
   "version": "3.7.12"
  },
  "papermill": {
   "default_parameters": {},
   "duration": 10.585953,
   "end_time": "2022-09-30T18:37:06.844484",
   "environment_variables": {},
   "exception": null,
   "input_path": "__notebook__.ipynb",
   "output_path": "__notebook__.ipynb",
   "parameters": {},
   "start_time": "2022-09-30T18:36:56.258531",
   "version": "2.3.4"
  }
 },
 "nbformat": 4,
 "nbformat_minor": 5
}
