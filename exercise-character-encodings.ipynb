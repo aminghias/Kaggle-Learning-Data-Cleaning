{
 "cells": [
  {
   "cell_type": "markdown",
   "id": "13785b3d",
   "metadata": {
    "papermill": {
     "duration": 0.008744,
     "end_time": "2022-09-30T18:37:49.977850",
     "exception": false,
     "start_time": "2022-09-30T18:37:49.969106",
     "status": "completed"
    },
    "tags": []
   },
   "source": [
    "**This notebook is an exercise in the [Data Cleaning](https://www.kaggle.com/learn/data-cleaning) course.  You can reference the tutorial at [this link](https://www.kaggle.com/alexisbcook/character-encodings).**\n",
    "\n",
    "---\n"
   ]
  },
  {
   "cell_type": "markdown",
   "id": "25cfc141",
   "metadata": {
    "papermill": {
     "duration": 0.004698,
     "end_time": "2022-09-30T18:37:49.987981",
     "exception": false,
     "start_time": "2022-09-30T18:37:49.983283",
     "status": "completed"
    },
    "tags": []
   },
   "source": [
    "In this exercise, you'll apply what you learned in the **Character encodings** tutorial.\n",
    "\n",
    "# Setup\n",
    "\n",
    "The questions below will give you feedback on your work. Run the following cell to set up the feedback system."
   ]
  },
  {
   "cell_type": "code",
   "execution_count": 1,
   "id": "959e2dab",
   "metadata": {
    "execution": {
     "iopub.execute_input": "2022-09-30T18:37:49.999167Z",
     "iopub.status.busy": "2022-09-30T18:37:49.998744Z",
     "iopub.status.idle": "2022-09-30T18:37:50.095980Z",
     "shell.execute_reply": "2022-09-30T18:37:50.094786Z"
    },
    "papermill": {
     "duration": 0.106105,
     "end_time": "2022-09-30T18:37:50.098684",
     "exception": false,
     "start_time": "2022-09-30T18:37:49.992579",
     "status": "completed"
    },
    "tags": []
   },
   "outputs": [
    {
     "name": "stdout",
     "output_type": "stream",
     "text": [
      "Setup Complete\n"
     ]
    }
   ],
   "source": [
    "from learntools.core import binder\n",
    "binder.bind(globals())\n",
    "from learntools.data_cleaning.ex4 import *\n",
    "print(\"Setup Complete\")"
   ]
  },
  {
   "cell_type": "markdown",
   "id": "868a6c6f",
   "metadata": {
    "papermill": {
     "duration": 0.004483,
     "end_time": "2022-09-30T18:37:50.107925",
     "exception": false,
     "start_time": "2022-09-30T18:37:50.103442",
     "status": "completed"
    },
    "tags": []
   },
   "source": [
    "# Get our environment set up\n",
    "\n",
    "The first thing we'll need to do is load in the libraries we'll be using."
   ]
  },
  {
   "cell_type": "code",
   "execution_count": 2,
   "id": "c680b420",
   "metadata": {
    "execution": {
     "iopub.execute_input": "2022-09-30T18:37:50.119398Z",
     "iopub.status.busy": "2022-09-30T18:37:50.118669Z",
     "iopub.status.idle": "2022-09-30T18:37:50.124249Z",
     "shell.execute_reply": "2022-09-30T18:37:50.123290Z"
    },
    "papermill": {
     "duration": 0.013788,
     "end_time": "2022-09-30T18:37:50.126364",
     "exception": false,
     "start_time": "2022-09-30T18:37:50.112576",
     "status": "completed"
    },
    "tags": []
   },
   "outputs": [],
   "source": [
    "# modules we'll use\n",
    "import pandas as pd\n",
    "import numpy as np\n",
    "\n",
    "# helpful character encoding module\n",
    "import chardet\n",
    "\n",
    "# set seed for reproducibility\n",
    "np.random.seed(0)"
   ]
  },
  {
   "cell_type": "markdown",
   "id": "e41765ce",
   "metadata": {
    "papermill": {
     "duration": 0.004501,
     "end_time": "2022-09-30T18:37:50.135546",
     "exception": false,
     "start_time": "2022-09-30T18:37:50.131045",
     "status": "completed"
    },
    "tags": []
   },
   "source": [
    "# 1) What are encodings?\n",
    "\n",
    "You're working with a dataset composed of bytes.  Run the code cell below to print a sample entry."
   ]
  },
  {
   "cell_type": "code",
   "execution_count": 3,
   "id": "3a23e625",
   "metadata": {
    "execution": {
     "iopub.execute_input": "2022-09-30T18:37:50.146898Z",
     "iopub.status.busy": "2022-09-30T18:37:50.146233Z",
     "iopub.status.idle": "2022-09-30T18:37:50.152784Z",
     "shell.execute_reply": "2022-09-30T18:37:50.151269Z"
    },
    "papermill": {
     "duration": 0.014866,
     "end_time": "2022-09-30T18:37:50.155032",
     "exception": false,
     "start_time": "2022-09-30T18:37:50.140166",
     "status": "completed"
    },
    "tags": []
   },
   "outputs": [
    {
     "name": "stdout",
     "output_type": "stream",
     "text": [
      "b'\\xa7A\\xa6n'\n",
      "data type: <class 'bytes'>\n"
     ]
    }
   ],
   "source": [
    "sample_entry = b'\\xa7A\\xa6n'\n",
    "print(sample_entry)\n",
    "print('data type:', type(sample_entry))"
   ]
  },
  {
   "cell_type": "markdown",
   "id": "cb918cba",
   "metadata": {
    "papermill": {
     "duration": 0.00459,
     "end_time": "2022-09-30T18:37:50.164462",
     "exception": false,
     "start_time": "2022-09-30T18:37:50.159872",
     "status": "completed"
    },
    "tags": []
   },
   "source": [
    "You notice that it doesn't use the standard UTF-8 encoding. \n",
    "\n",
    "Use the next code cell to create a variable `new_entry` that changes the encoding from `\"big5-tw\"` to `\"utf-8\"`.  `new_entry` should have the bytes datatype."
   ]
  },
  {
   "cell_type": "code",
   "execution_count": 4,
   "id": "8e31dcda",
   "metadata": {
    "execution": {
     "iopub.execute_input": "2022-09-30T18:37:50.175970Z",
     "iopub.status.busy": "2022-09-30T18:37:50.175143Z",
     "iopub.status.idle": "2022-09-30T18:37:50.188196Z",
     "shell.execute_reply": "2022-09-30T18:37:50.186951Z"
    },
    "papermill": {
     "duration": 0.022133,
     "end_time": "2022-09-30T18:37:50.191338",
     "exception": false,
     "start_time": "2022-09-30T18:37:50.169205",
     "status": "completed"
    },
    "tags": []
   },
   "outputs": [
    {
     "name": "stdout",
     "output_type": "stream",
     "text": [
      "你好\n",
      "b'\\xe4\\xbd\\xa0\\xe5\\xa5\\xbd'\n"
     ]
    },
    {
     "data": {
      "application/javascript": [
       "parent.postMessage({\"jupyterEvent\": \"custom.exercise_interaction\", \"data\": {\"outcomeType\": 1, \"valueTowardsCompletion\": 0.3333333333333333, \"interactionType\": 1, \"questionType\": 1, \"questionId\": \"1_EncodingsIntro\", \"learnToolsVersion\": \"0.3.4\", \"failureMessage\": \"\", \"exceptionClass\": \"\", \"trace\": \"\"}}, \"*\")"
      ],
      "text/plain": [
       "<IPython.core.display.Javascript object>"
      ]
     },
     "metadata": {},
     "output_type": "display_data"
    },
    {
     "data": {
      "text/markdown": [
       "<span style=\"color:#33cc33\">Correct</span>"
      ],
      "text/plain": [
       "Correct"
      ]
     },
     "metadata": {},
     "output_type": "display_data"
    }
   ],
   "source": [
    "before = sample_entry.decode(\"big5-tw\")\n",
    "print(before)\n",
    "new_entry = before.encode()\n",
    "print(new_entry)\n",
    "\n",
    "# Check your answer\n",
    "q1.check()"
   ]
  },
  {
   "cell_type": "code",
   "execution_count": 5,
   "id": "4ee992f1",
   "metadata": {
    "execution": {
     "iopub.execute_input": "2022-09-30T18:37:50.203402Z",
     "iopub.status.busy": "2022-09-30T18:37:50.203050Z",
     "iopub.status.idle": "2022-09-30T18:37:50.207023Z",
     "shell.execute_reply": "2022-09-30T18:37:50.205932Z"
    },
    "papermill": {
     "duration": 0.012542,
     "end_time": "2022-09-30T18:37:50.209232",
     "exception": false,
     "start_time": "2022-09-30T18:37:50.196690",
     "status": "completed"
    },
    "tags": []
   },
   "outputs": [],
   "source": [
    "# Lines below will give you a hint or solution code\n",
    "#q1.hint()\n",
    "# q1.solution()"
   ]
  },
  {
   "cell_type": "markdown",
   "id": "b32cb44f",
   "metadata": {
    "papermill": {
     "duration": 0.004657,
     "end_time": "2022-09-30T18:37:50.218842",
     "exception": false,
     "start_time": "2022-09-30T18:37:50.214185",
     "status": "completed"
    },
    "tags": []
   },
   "source": [
    "# 2) Reading in files with encoding problems\n",
    "\n",
    "Use the code cell below to read in this file at path `\"../input/fatal-police-shootings-in-the-us/PoliceKillingsUS.csv\"`.  \n",
    "\n",
    "Figure out what the correct encoding should be and read in the file to a DataFrame `police_killings`."
   ]
  },
  {
   "cell_type": "code",
   "execution_count": 6,
   "id": "24cee7b9",
   "metadata": {
    "execution": {
     "iopub.execute_input": "2022-09-30T18:37:50.230154Z",
     "iopub.status.busy": "2022-09-30T18:37:50.229785Z",
     "iopub.status.idle": "2022-09-30T18:37:53.426572Z",
     "shell.execute_reply": "2022-09-30T18:37:53.425102Z"
    },
    "papermill": {
     "duration": 3.205388,
     "end_time": "2022-09-30T18:37:53.428961",
     "exception": false,
     "start_time": "2022-09-30T18:37:50.223573",
     "status": "completed"
    },
    "tags": []
   },
   "outputs": [
    {
     "name": "stdout",
     "output_type": "stream",
     "text": [
      "{'encoding': 'Windows-1252', 'confidence': 0.73, 'language': ''}\n"
     ]
    },
    {
     "data": {
      "application/javascript": [
       "parent.postMessage({\"jupyterEvent\": \"custom.exercise_interaction\", \"data\": {\"outcomeType\": 1, \"valueTowardsCompletion\": 0.3333333333333333, \"interactionType\": 1, \"questionType\": 1, \"questionId\": \"2_ReadIn\", \"learnToolsVersion\": \"0.3.4\", \"failureMessage\": \"\", \"exceptionClass\": \"\", \"trace\": \"\"}}, \"*\")"
      ],
      "text/plain": [
       "<IPython.core.display.Javascript object>"
      ]
     },
     "metadata": {},
     "output_type": "display_data"
    },
    {
     "data": {
      "text/markdown": [
       "<span style=\"color:#33cc33\">Correct</span>"
      ],
      "text/plain": [
       "Correct"
      ]
     },
     "metadata": {},
     "output_type": "display_data"
    }
   ],
   "source": [
    "# TODO: Load in the DataFrame correctly.\n",
    "police_killings = ____\n",
    "\n",
    "with open(\"../input/fatal-police-shootings-in-the-us/PoliceKillingsUS.csv\", 'rb') as rawdata:\n",
    "    result = chardet.detect(rawdata.read(1000000))\n",
    "print(result)\n",
    "\n",
    "police_killings = pd.read_csv(\"../input/fatal-police-shootings-in-the-us/PoliceKillingsUS.csv\", encoding='Windows-1252')\n",
    "\n",
    "# Check your answer\n",
    "q2.check()"
   ]
  },
  {
   "cell_type": "markdown",
   "id": "af8127a1",
   "metadata": {
    "papermill": {
     "duration": 0.004984,
     "end_time": "2022-09-30T18:37:53.439395",
     "exception": false,
     "start_time": "2022-09-30T18:37:53.434411",
     "status": "completed"
    },
    "tags": []
   },
   "source": [
    "Feel free to use any additional code cells for supplemental work.  To get credit for finishing this question, you'll need to run `q2.check()` and get a result of **Correct**."
   ]
  },
  {
   "cell_type": "code",
   "execution_count": 7,
   "id": "f2c85e06",
   "metadata": {
    "execution": {
     "iopub.execute_input": "2022-09-30T18:37:53.452570Z",
     "iopub.status.busy": "2022-09-30T18:37:53.452140Z",
     "iopub.status.idle": "2022-09-30T18:37:56.622101Z",
     "shell.execute_reply": "2022-09-30T18:37:56.620701Z"
    },
    "papermill": {
     "duration": 3.179993,
     "end_time": "2022-09-30T18:37:56.624608",
     "exception": false,
     "start_time": "2022-09-30T18:37:53.444615",
     "status": "completed"
    },
    "tags": []
   },
   "outputs": [
    {
     "name": "stdout",
     "output_type": "stream",
     "text": [
      "{'encoding': 'Windows-1252', 'confidence': 0.73, 'language': ''}\n"
     ]
    }
   ],
   "source": [
    "# (Optional) Use this code cell for any additional work.\n",
    "with open(\"../input/fatal-police-shootings-in-the-us/PoliceKillingsUS.csv\", 'rb') as rawdata:\n",
    "    result = chardet.detect(rawdata.read(1000000))\n",
    "print(result)\n"
   ]
  },
  {
   "cell_type": "code",
   "execution_count": 8,
   "id": "136a6708",
   "metadata": {
    "execution": {
     "iopub.execute_input": "2022-09-30T18:37:56.637289Z",
     "iopub.status.busy": "2022-09-30T18:37:56.636900Z",
     "iopub.status.idle": "2022-09-30T18:37:56.641825Z",
     "shell.execute_reply": "2022-09-30T18:37:56.640647Z"
    },
    "papermill": {
     "duration": 0.013858,
     "end_time": "2022-09-30T18:37:56.644073",
     "exception": false,
     "start_time": "2022-09-30T18:37:56.630215",
     "status": "completed"
    },
    "tags": []
   },
   "outputs": [],
   "source": [
    "# Lines below will give you a hint or solution code\n",
    "#q2.hint()\n",
    "# q2.solution()"
   ]
  },
  {
   "cell_type": "markdown",
   "id": "b3426025",
   "metadata": {
    "papermill": {
     "duration": 0.005092,
     "end_time": "2022-09-30T18:37:56.654708",
     "exception": false,
     "start_time": "2022-09-30T18:37:56.649616",
     "status": "completed"
    },
    "tags": []
   },
   "source": [
    "# 3) Saving your files with UTF-8 encoding\n",
    "\n",
    "Save a version of the police killings dataset to CSV with UTF-8 encoding.  Your answer will be marked correct after saving this file.  \n",
    "\n",
    "Note: When using the `to_csv()` method, supply only the name of the file (e.g., `\"my_file.csv\"`).  This saves the file at the filepath `\"/kaggle/working/my_file.csv\"`."
   ]
  },
  {
   "cell_type": "code",
   "execution_count": 9,
   "id": "9aa5d787",
   "metadata": {
    "execution": {
     "iopub.execute_input": "2022-09-30T18:37:56.667247Z",
     "iopub.status.busy": "2022-09-30T18:37:56.666833Z",
     "iopub.status.idle": "2022-09-30T18:37:56.699722Z",
     "shell.execute_reply": "2022-09-30T18:37:56.698510Z"
    },
    "papermill": {
     "duration": 0.04222,
     "end_time": "2022-09-30T18:37:56.702245",
     "exception": false,
     "start_time": "2022-09-30T18:37:56.660025",
     "status": "completed"
    },
    "tags": []
   },
   "outputs": [
    {
     "data": {
      "application/javascript": [
       "parent.postMessage({\"jupyterEvent\": \"custom.exercise_interaction\", \"data\": {\"outcomeType\": 1, \"valueTowardsCompletion\": 0.3333333333333333, \"interactionType\": 1, \"questionType\": 2, \"questionId\": \"3_SaveCSV\", \"learnToolsVersion\": \"0.3.4\", \"failureMessage\": \"\", \"exceptionClass\": \"\", \"trace\": \"\"}}, \"*\")"
      ],
      "text/plain": [
       "<IPython.core.display.Javascript object>"
      ]
     },
     "metadata": {},
     "output_type": "display_data"
    },
    {
     "data": {
      "text/markdown": [
       "<span style=\"color:#33cc33\">Correct</span>"
      ],
      "text/plain": [
       "Correct"
      ]
     },
     "metadata": {},
     "output_type": "display_data"
    }
   ],
   "source": [
    "# TODO: Save the police killings dataset to CSV\n",
    "police_killings.to_csv(\"my_file.csv\")\n",
    "\n",
    "# Check your answer\n",
    "q3.check()"
   ]
  },
  {
   "cell_type": "code",
   "execution_count": 10,
   "id": "20044da8",
   "metadata": {
    "execution": {
     "iopub.execute_input": "2022-09-30T18:37:56.715571Z",
     "iopub.status.busy": "2022-09-30T18:37:56.715151Z",
     "iopub.status.idle": "2022-09-30T18:37:56.719589Z",
     "shell.execute_reply": "2022-09-30T18:37:56.718514Z"
    },
    "papermill": {
     "duration": 0.013767,
     "end_time": "2022-09-30T18:37:56.721780",
     "exception": false,
     "start_time": "2022-09-30T18:37:56.708013",
     "status": "completed"
    },
    "tags": []
   },
   "outputs": [],
   "source": [
    "# Lines below will give you a hint or solution code\n",
    "#q3.hint()\n",
    "# q3.solution()"
   ]
  },
  {
   "cell_type": "markdown",
   "id": "65b393dd",
   "metadata": {
    "papermill": {
     "duration": 0.005359,
     "end_time": "2022-09-30T18:37:56.732793",
     "exception": false,
     "start_time": "2022-09-30T18:37:56.727434",
     "status": "completed"
    },
    "tags": []
   },
   "source": [
    "# (Optional) More practice\n",
    "\n",
    "Check out [this dataset of files in different character encodings](https://www.kaggle.com/rtatman/character-encoding-examples). Can you read in all the files with their original encodings and them save them out as UTF-8 files?\n",
    "\n",
    "If you have a file that's in UTF-8 but has just a couple of weird-looking characters in it, you can try out the [ftfy module](https://ftfy.readthedocs.io/en/latest/#) and see if it helps. \n",
    "\n",
    "# Keep going\n",
    "\n",
    "In the final lesson, learn how to [**clean up inconsistent text entries**](https://www.kaggle.com/alexisbcook/inconsistent-data-entry) in your dataset."
   ]
  },
  {
   "cell_type": "markdown",
   "id": "c2583f12",
   "metadata": {
    "papermill": {
     "duration": 0.005441,
     "end_time": "2022-09-30T18:37:56.743836",
     "exception": false,
     "start_time": "2022-09-30T18:37:56.738395",
     "status": "completed"
    },
    "tags": []
   },
   "source": [
    "---\n",
    "\n",
    "\n",
    "\n",
    "\n",
    "*Have questions or comments? Visit the [course discussion forum](https://www.kaggle.com/learn/data-cleaning/discussion) to chat with other learners.*"
   ]
  }
 ],
 "metadata": {
  "kernelspec": {
   "display_name": "Python 3",
   "language": "python",
   "name": "python3"
  },
  "language_info": {
   "codemirror_mode": {
    "name": "ipython",
    "version": 3
   },
   "file_extension": ".py",
   "mimetype": "text/x-python",
   "name": "python",
   "nbconvert_exporter": "python",
   "pygments_lexer": "ipython3",
   "version": "3.7.12"
  },
  "papermill": {
   "default_parameters": {},
   "duration": 16.499798,
   "end_time": "2022-09-30T18:37:57.370194",
   "environment_variables": {},
   "exception": null,
   "input_path": "__notebook__.ipynb",
   "output_path": "__notebook__.ipynb",
   "parameters": {},
   "start_time": "2022-09-30T18:37:40.870396",
   "version": "2.3.4"
  }
 },
 "nbformat": 4,
 "nbformat_minor": 5
}
